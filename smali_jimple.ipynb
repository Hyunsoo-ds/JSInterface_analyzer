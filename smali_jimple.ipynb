{
 "cells": [
  {
   "cell_type": "code",
   "execution_count": 1,
   "metadata": {},
   "outputs": [],
   "source": [
    "from androguard.misc import *\n",
    "import os\n",
    "import gc\n",
    "import json\n",
    "import re\n",
    "import subprocess\n",
    "environment_constant = {'APKS_FOLDER':\"apks\", 'OUT_FOLDER':\"out\", \"RULE_PATH\": \"rules\"}"
   ]
  },
  {
   "cell_type": "code",
   "execution_count": 2,
   "metadata": {},
   "outputs": [],
   "source": [
    "class Node:\n",
    "    total_node = 0\n",
    "\n",
    "    def __init__(self, class_name):\n",
    "        self.class_name = class_name\n",
    "        self.methods = []\n",
    "        Node.total_node +=1\n",
    "\n",
    "    def addMethod(self, method):\n",
    "        if method not in self.methods:\n",
    "            self.methods.append(method)"
   ]
  },
  {
   "cell_type": "code",
   "execution_count": 3,
   "metadata": {},
   "outputs": [],
   "source": [
    "def extract_jsinterface(APK_NAME):\n",
    "    androguard_apk_obj, androguard_d_array,androguard_dx = AnalyzeAPK(environment_constant['APKS_FOLDER']+'/'+APK_NAME, session = None)\n",
    "    EncodedMethodList = []\n",
    "    MethodAnalysisList = []\n",
    "    for dvm in androguard_d_array:\n",
    "        for adi in dvm.map_list.get_item_type(\"TYPE_ANNOTATIONS_DIRECTORY_ITEM\"):\n",
    "            if adi.get_method_annotations() == []:\n",
    "                continue\n",
    "            for mi in adi.get_method_annotations():\n",
    "                ann_set_item = dvm.CM.get_obj_by_offset(mi.get_annotations_off())\n",
    "                for aoffitem in ann_set_item.get_annotation_off_item():\n",
    "                    annotation_item = dvm.CM.get_obj_by_offset(aoffitem.get_annotation_off())\n",
    "                    encoded_annotation = annotation_item.get_annotation()\n",
    "                    if \"Landroid/webkit/JavascriptInterface\" in str(dvm.CM.get_type(encoded_annotation.get_type_idx())):\n",
    "                        #print(type(dvm.get_method_by_idx(mi.get_method_idx())))\n",
    "                        EncodedMethodList.append(dvm.get_method_by_idx(mi.get_method_idx()))\n",
    "\n",
    "\n",
    "    interface_and_method = list()\n",
    "\n",
    "    for encoded_method in EncodedMethodList:\n",
    "            class_name = encoded_method.get_class_name()\n",
    "            \n",
    "            class_exist = False\n",
    "\n",
    "            for node in interface_and_method:\n",
    "                if class_name == node.class_name:\n",
    "                    node.addMethod(encoded_method)\n",
    "                    class_exist = True\n",
    "                    break\n",
    "\n",
    "            if not class_exist:\n",
    "                temp = Node(class_name)\n",
    "                temp.addMethod(encoded_method)\n",
    "                interface_and_method.append(temp)\n",
    "\n",
    "    return interface_and_method"
   ]
  },
  {
   "cell_type": "code",
   "execution_count": 4,
   "metadata": {},
   "outputs": [],
   "source": [
    "def convert_signature(signature):\n",
    "        # Java 형식의 시그니처에서 '/'를 '.'으로 대체하고, L과 ;를 제거\n",
    "        return signature.replace('/', '.')[1:-1]\n",
    "def parse_and_convert_method_signature(signature_string):\n",
    "\n",
    "    # 정규표현식을 사용하여 파라미터와 반환 변수 추출\n",
    "    pattern = r'\\((.*?)\\)(.*)'\n",
    "    match = re.match(pattern, signature_string)\n",
    "    \n",
    "    if match:\n",
    "        parameters = match.group(1).split(',')\n",
    "        parameters = [convert_signature(param.strip()) for param in parameters if param.strip()]  # 각 파라미터에 convert_signature 적용\n",
    "        return_type = convert_signature(match.group(2).strip())\n",
    "        \n",
    "        return parameters, return_type\n",
    "    else:\n",
    "        return None, None\n"
   ]
  },
  {
   "cell_type": "code",
   "execution_count": 5,
   "metadata": {},
   "outputs": [],
   "source": [
    "def write_template(class_name, method,APK_NAME):\n",
    "    parameters, return_type = parse_and_convert_method_signature(method.get_descriptor())\n",
    "    if(not(return_type)):\n",
    "        return_type = \"void\"\n",
    "    # 주어진 JSON 데이터\n",
    "    json_data = {\n",
    "        f\"{method.get_name()}\": {\n",
    "            \"enable\": True,\n",
    "            \"SliceMode\": True,\n",
    "            \"traceDepth\": 6,\n",
    "            \"desc\": {\n",
    "                \"name\": f\"{method.get_name()}\",\n",
    "                \"category\": \"interface_analysis\",\n",
    "                \"detail\": \"identify if it's a vulnerable Javascript interface\",\n",
    "                \"class_name\": f\"{convert_signature(class_name)}\"\n",
    "            },\n",
    "            \"entry\": {},\n",
    "            \"source\": {\n",
    "                \"Param\": {\n",
    "                    f\"<{convert_signature(class_name)}: {return_type} {method.get_name()}(*)>\": [\n",
    "                        \"p*\"\n",
    "                    ]\n",
    "                }\n",
    "            },\n",
    "            \"sink\": {\n",
    "                \"<*: * loadUrl*(*)>\": {\n",
    "                    \"TaintCheck\": [\n",
    "                        \"p*\"\n",
    "                    ]\n",
    "                }\n",
    "            }\n",
    "        }\n",
    "    }\n",
    "\n",
    "    # JSON 파일에 쓰기\n",
    "    current_directory = os.getcwd()\n",
    "\n",
    "    rule_folder_path = os.path.join(current_directory,environment_constant['OUT_FOLDER'], APK_NAME, environment_constant['RULE_PATH'])\n",
    "\n",
    "    with open(f'{rule_folder_path}/{method.get_name()}.json', 'w') as json_file:\n",
    "        json.dump(json_data, json_file, indent=2)  # indent 옵션을 사용하여 들여쓰기를 설정할 수 있습니다.\n"
   ]
  },
  {
   "cell_type": "code",
   "execution_count": 6,
   "metadata": {},
   "outputs": [],
   "source": [
    "def make_analysis_template(interface_and_method,APK_NAME):\n",
    "    for node in interface_and_method:\n",
    "        print('[class]:', node.class_name)\n",
    "        for method in node.methods:\n",
    "            print('\\t ->', method.get_name())\n",
    "            print('\\t\\t->', method.get_descriptor())\n",
    "            write_template(node.class_name, method,APK_NAME)"
   ]
  },
  {
   "cell_type": "code",
   "execution_count": 7,
   "metadata": {},
   "outputs": [],
   "source": [
    "def create_json_config(APK_NAME):\n",
    "\n",
    "    current_directory = os.getcwd()\n",
    "    apk_path = os.path.join(current_directory,environment_constant['APKS_FOLDER'],APK_NAME + '.apk')\n",
    "    rule_path = os.path.join(current_directory, environment_constant['OUT_FOLDER'],APK_NAME, environment_constant['RULE_PATH'])\n",
    "    out_path = os.path.join(current_directory,environment_constant['OUT_FOLDER'],APK_NAME)\n",
    "\n",
    "    json_content = {\n",
    "        \"apkPath\": apk_path,\n",
    "        \"rulePath\": rule_path,\n",
    "        \"javaSource\": True,\n",
    "        \"out\": out_path\n",
    "        # 여기에 필요한 다른 속성 추가 가능\n",
    "    }\n",
    "\n",
    "    json_file_path = os.path.join(out_path, f'{APK_NAME}_config.json')\n",
    "\n",
    "    \n",
    "\n",
    "    print(f'[*] {json_file_path} 생성')\n",
    "    with open(json_file_path, 'w') as json_file:    \n",
    "        json.dump(json_content, json_file, indent=2)\n",
    "\n",
    "    return json_file_path"
   ]
  },
  {
   "cell_type": "code",
   "execution_count": 8,
   "metadata": {},
   "outputs": [],
   "source": [
    "def run_appshark(config_file_path):\n",
    "    command = f'java -jar build/libs/AppShark-0.1.2-all.jar {config_file_path}'\n",
    "\n",
    "    subprocess.run(command,shell=True)"
   ]
  },
  {
   "cell_type": "code",
   "execution_count": 9,
   "metadata": {},
   "outputs": [],
   "source": [
    "def make_structure(APK_NAME):\n",
    "    current_directory = os.getcwd()\n",
    "\n",
    "    output_folder_path = os.path.join(current_directory,environment_constant['OUT_FOLDER'])\n",
    "\n",
    "    if not os.path.exists(output_folder_path):\n",
    "        os.makedirs(output_folder_path)\n",
    "        print(f\"[*]'{environment_constant['OUT_FOLDER']}' 폴더가 생성되었습니다.\")\n",
    "\n",
    "    \n",
    "    apk_folder_path = os.path.join(output_folder_path, APK_NAME)\n",
    "    if not os.path.exists(apk_folder_path):\n",
    "        os.makedirs(apk_folder_path)\n",
    "        print(f\"[*]'{environment_constant['OUT_FOLDER']}/{APK_NAME}' 폴더가 생성되었습니다.\")\n",
    "    \n",
    "    rule_folder_path = os.path.join(apk_folder_path, environment_constant['RULE_PATH'])\n",
    "\n",
    "    if not os.path.exists(rule_folder_path):\n",
    "        os.makedirs(rule_folder_path)\n",
    "        print(f\"[*]'{environment_constant['OUT_FOLDER']}/{APK_NAME}/{environment_constant['RULE_PATH']}' 폴더가 생성되었습니다.\")\n"
   ]
  },
  {
   "cell_type": "code",
   "execution_count": 10,
   "metadata": {},
   "outputs": [],
   "source": [
    "def main():\n",
    "    TEMP_APK = 'com.hyundai.myhyundai.apk'\n",
    "\n",
    "    make_structure(TEMP_APK)\n",
    "    \n",
    "    extracted_JSinterface = extract_jsinterface(TEMP_APK)\n",
    "    make_analysis_template(extracted_JSinterface,TEMP_APK)\n",
    "\n",
    "    config_file_path = create_json_config(TEMP_APK)\n",
    "\n",
    "    run_appshark(config_file_path)"
   ]
  },
  {
   "cell_type": "code",
   "execution_count": 58,
   "metadata": {},
   "outputs": [],
   "source": [
    "def make_result(APK_NAME):\n",
    "    current_directory = os.getcwd()\n",
    "\n",
    "    result_path = os.path.join(current_directory,environment_constant['OUT_FOLDER'],APK_NAME,'results.json')\n",
    "    vuln_list_path= os.path.join(current_directory,environment_constant['OUT_FOLDER'],APK_NAME,'vuln_list.txt')\n",
    "\n",
    "    with open(result_path, 'r') as file:\n",
    "        json_data = json.load(file)\n",
    "\n",
    "    with open(vuln_list_path,'w') as f:\n",
    "        f.write(f'[APK_NAME]: {APK_NAME}\\n')\n",
    "        f.write(f'[Vuln Method List]\\n')\n",
    "\n",
    "        for method in json_data['SecurityInfo']['interface_analysis']:\n",
    "            f.write(f\"[Name]:{method}\\n\\n\")\n",
    "            f.write(f\"\\t[Source]:{json_data['SecurityInfo']['interface_analysis'][method]['vulners'][0]['details']['Source']}\\n\")\n",
    "            f.write(f\"\\t[Sink]:{json_data['SecurityInfo']['interface_analysis'][method]['vulners'][0]['details']['Sink']}\\n\")\n",
    "            \n",
    "            "
   ]
  },
  {
   "cell_type": "code",
   "execution_count": 11,
   "metadata": {},
   "outputs": [
    {
     "name": "stderr",
     "output_type": "stream",
     "text": [
      "Requested API level 33 is larger than maximum we have, returning API level 28 instead.\n"
     ]
    },
    {
     "name": "stdout",
     "output_type": "stream",
     "text": [
      "[class]: Lcom/hyundai/myhyundai/common/MyhyundaiWVBridge;\n",
      "\t -> getDeviceId\n",
      "\t\t-> ()Ljava/lang/String;\n",
      "\t -> getDeviceToken\n",
      "\t\t-> ()Ljava/lang/String;\n",
      "\t -> postMessage\n",
      "\t\t-> (Ljava/lang/String;)V\n",
      "\t -> printLog\n",
      "\t\t-> (Ljava/lang/String;)V\n",
      "\t -> showToast\n",
      "\t\t-> (Ljava/lang/String;)Ljava/lang/String;\n",
      "[class]: Lcom/hyundai/myhyundai/common/GAWebAppInterface;\n",
      "\t -> GA_DATA\n",
      "\t\t-> (Ljava/lang/String;)V\n",
      "[class]: Lcom/hyundai/myhyundai/activity/MainActivity$bwcBridge;\n",
      "\t -> setMessage\n",
      "\t\t-> (Ljava/lang/String;)V\n",
      "[*] c:\\android\\analyze_interface\\out\\com.hyundai.myhyundai.apk\\com.hyundai.myhyundai.apk_config.json 생성\n"
     ]
    }
   ],
   "source": [
    "if __name__ == \"__main__\":\n",
    "    main()"
   ]
  }
 ],
 "metadata": {
  "kernelspec": {
   "display_name": "Python 3",
   "language": "python",
   "name": "python3"
  },
  "language_info": {
   "codemirror_mode": {
    "name": "ipython",
    "version": 3
   },
   "file_extension": ".py",
   "mimetype": "text/x-python",
   "name": "python",
   "nbconvert_exporter": "python",
   "pygments_lexer": "ipython3",
   "version": "3.11.4"
  }
 },
 "nbformat": 4,
 "nbformat_minor": 2
}
